{
 "cells": [
  {
   "cell_type": "code",
   "execution_count": 1,
   "id": "d948493d",
   "metadata": {},
   "outputs": [],
   "source": [
    "import requests\n",
    "import pandas as pd\n",
    "\n",
    "import matplotlib.pyplot as plt\n",
    "\n",
    "import seaborn as sns\n",
    "import numpy as np\n",
    "import os\n",
    "import regex as re\n",
    "from sklearn.metrics.pairwise import cosine_similarity\n",
    "\n",
    "from gensim.test.utils import common_texts\n",
    "from gensim.models import Word2Vec\n",
    "from gensim.models.doc2vec import Doc2Vec, TaggedDocument\n",
    "import regex as re\n",
    "from nltk.stem import WordNetLemmatizer \n",
    "from nltk import word_tokenize  \n",
    "import regex as re\n",
    "from nltk.stem import WordNetLemmatizer \n",
    "import json\n",
    "\n",
    "from scipy.cluster import hierarchy \n",
    "from sklearn.cluster import DBSCAN\n",
    "from sklearn.cluster import KMeans\n",
    "from sklearn.cluster import AgglomerativeClustering\n",
    "from sklearn.metrics import silhouette_score\n",
    "from scipy.cluster.hierarchy import dendrogram, linkage, cophenet\n",
    "from scipy.spatial.distance import pdist\n",
    "\n",
    "from IPython.core.interactiveshell import InteractiveShell\n",
    "InteractiveShell.ast_node_interactivity = \"all\"\n",
    "g = globals()\n",
    "max_d = 7.3"
   ]
  },
  {
   "cell_type": "markdown",
   "id": "c35337fd-0686-4489-a0a1-ff039b6dea08",
   "metadata": {},
   "source": [
    "## Call dataframe with assigned topics and rectify errors in the dataframe"
   ]
  },
  {
   "cell_type": "code",
   "execution_count": 90,
   "id": "8c7393f1-9a1d-4763-88fa-2bc11d165c4a",
   "metadata": {},
   "outputs": [],
   "source": [
    "final_df =pd.read_csv('./Data/Topic_modelling_final.csv')\n",
    "final_df['speaker'] = np.where((final_df.speaker.str.contains('George_W._Bush')) & (final_df.Year > 2008), 'Jeb_Bush', final_df.speaker)\n",
    "final_df['Year'] = np.where((final_df.speaker.str.contains('Ron_Paul')) & (final_df.Year == 2016), 2008, final_df.Year)\n",
    "final_df['Year'] = np.where((final_df.speaker.str.contains('George_W._Bush')) & (final_df.Year == 2008), 2000, final_df.Year)\n",
    "final_df['Debate'] = np.where(final_df.speaker.str.contains('Hillary'), 'Democratic', final_df.Debate)"
   ]
  },
  {
   "cell_type": "markdown",
   "id": "c6ccf3cc",
   "metadata": {},
   "source": [
    "## Doc2Vec"
   ]
  },
  {
   "cell_type": "code",
   "execution_count": 701,
   "id": "b1197963-9cd8-4440-a56f-6ecdb0b4523c",
   "metadata": {},
   "outputs": [],
   "source": [
    "vec = final_df.copy()\n",
    "final_df.reset_index(inplace = True, drop = True)"
   ]
  },
  {
   "cell_type": "code",
   "execution_count": 702,
   "id": "025c5aba",
   "metadata": {},
   "outputs": [],
   "source": [
    "#tokenizing text\n",
    "def tokenize_text(text):\n",
    "    words = word_tokenize(text)\n",
    "    return words\n",
    "final_df['doc2vec_token'] = final_df.doc2vec_text.apply(tokenize_text)"
   ]
  },
  {
   "cell_type": "code",
   "execution_count": 703,
   "id": "1c9bb011",
   "metadata": {},
   "outputs": [],
   "source": [
    "\n",
    "model_list = []\n",
    "final_df_list = list(final_df.doc2vec_token)\n",
    "documents = [TaggedDocument(doc, [i]) for i, doc in enumerate(final_df_list)]\n",
    "\n",
    "#Training word2vec model\n",
    "topic_embedding_model = Doc2Vec(documents, min_count=1, vector_size=20, workers=8, dm=0)"
   ]
  },
  {
   "cell_type": "code",
   "execution_count": 704,
   "id": "8efc6c5c-7cd6-4d52-8fbc-fd68a1d479bd",
   "metadata": {},
   "outputs": [
    {
     "data": {
      "text/html": [
       "<div>\n",
       "<style scoped>\n",
       "    .dataframe tbody tr th:only-of-type {\n",
       "        vertical-align: middle;\n",
       "    }\n",
       "\n",
       "    .dataframe tbody tr th {\n",
       "        vertical-align: top;\n",
       "    }\n",
       "\n",
       "    .dataframe thead th {\n",
       "        text-align: right;\n",
       "    }\n",
       "</style>\n",
       "<table border=\"1\" class=\"dataframe\">\n",
       "  <thead>\n",
       "    <tr style=\"text-align: right;\">\n",
       "      <th></th>\n",
       "      <th>speaker</th>\n",
       "      <th>sentence</th>\n",
       "      <th>Debate</th>\n",
       "      <th>Year</th>\n",
       "      <th>count</th>\n",
       "      <th>new_speaker</th>\n",
       "      <th>len</th>\n",
       "      <th>processed_text</th>\n",
       "      <th>Topic</th>\n",
       "      <th>doc2vec_text</th>\n",
       "      <th>doc2vec_token</th>\n",
       "      <th>embedding word</th>\n",
       "    </tr>\n",
       "  </thead>\n",
       "  <tbody>\n",
       "    <tr>\n",
       "      <th>0</th>\n",
       "      <td>Al_Gore</td>\n",
       "      <td>I would look for justices of the Supreme Cour...</td>\n",
       "      <td>Democratic</td>\n",
       "      <td>2000</td>\n",
       "      <td>1</td>\n",
       "      <td>False</td>\n",
       "      <td>1082</td>\n",
       "      <td>i would look for justices of the supreme court...</td>\n",
       "      <td>Supreme_Court</td>\n",
       "      <td>I would look for justices of the Supreme Cour...</td>\n",
       "      <td>[I, would, look, for, justices, of, the, Supre...</td>\n",
       "      <td>Al_Gore_2000 Supreme_Court</td>\n",
       "    </tr>\n",
       "    <tr>\n",
       "      <th>1</th>\n",
       "      <td>Al_Gore</td>\n",
       "      <td>I agree with that statement. I think it was a...</td>\n",
       "      <td>Democratic</td>\n",
       "      <td>2000</td>\n",
       "      <td>1</td>\n",
       "      <td>False</td>\n",
       "      <td>640</td>\n",
       "      <td>i agree with that statement i think it was a v...</td>\n",
       "      <td>Homosexuality</td>\n",
       "      <td>I agree with that statement. I think it was a...</td>\n",
       "      <td>[I, agree, with, that, statement, ., I, think,...</td>\n",
       "      <td>Al_Gore_2000 Homosexuality</td>\n",
       "    </tr>\n",
       "    <tr>\n",
       "      <th>2</th>\n",
       "      <td>Al_Gore</td>\n",
       "      <td>.. to interpret the Constitution in keeping wi...</td>\n",
       "      <td>Democratic</td>\n",
       "      <td>2000</td>\n",
       "      <td>1</td>\n",
       "      <td>False</td>\n",
       "      <td>69</td>\n",
       "      <td>to interpret the constitution in keeping with ...</td>\n",
       "      <td>Supreme_Court</td>\n",
       "      <td>.. to interpret the Constitution in keeping wi...</td>\n",
       "      <td>[.., to, interpret, the, Constitution, in, kee...</td>\n",
       "      <td>Al_Gore_2000 Supreme_Court</td>\n",
       "    </tr>\n",
       "  </tbody>\n",
       "</table>\n",
       "</div>"
      ],
      "text/plain": [
       "   speaker                                           sentence      Debate  \\\n",
       "0  Al_Gore   I would look for justices of the Supreme Cour...  Democratic   \n",
       "1  Al_Gore   I agree with that statement. I think it was a...  Democratic   \n",
       "2  Al_Gore  .. to interpret the Constitution in keeping wi...  Democratic   \n",
       "\n",
       "   Year  count  new_speaker   len  \\\n",
       "0  2000      1        False  1082   \n",
       "1  2000      1        False   640   \n",
       "2  2000      1        False    69   \n",
       "\n",
       "                                      processed_text          Topic  \\\n",
       "0  i would look for justices of the supreme court...  Supreme_Court   \n",
       "1  i agree with that statement i think it was a v...  Homosexuality   \n",
       "2  to interpret the constitution in keeping with ...  Supreme_Court   \n",
       "\n",
       "                                        doc2vec_text  \\\n",
       "0   I would look for justices of the Supreme Cour...   \n",
       "1   I agree with that statement. I think it was a...   \n",
       "2  .. to interpret the Constitution in keeping wi...   \n",
       "\n",
       "                                       doc2vec_token  \\\n",
       "0  [I, would, look, for, justices, of, the, Supre...   \n",
       "1  [I, agree, with, that, statement, ., I, think,...   \n",
       "2  [.., to, interpret, the, Constitution, in, kee...   \n",
       "\n",
       "               embedding word  \n",
       "0  Al_Gore_2000 Supreme_Court  \n",
       "1  Al_Gore_2000 Homosexuality  \n",
       "2  Al_Gore_2000 Supreme_Court  "
      ]
     },
     "execution_count": 704,
     "metadata": {},
     "output_type": "execute_result"
    }
   ],
   "source": [
    "#append back the meta data but this time as a separate column. We will find the document embeddings for this meta data for each document\n",
    "\n",
    "for i in range(len(final_df)):\n",
    "    word1 = final_df.iloc[i]['speaker']\n",
    "    word2 = str(final_df.iloc[i]['Year'])\n",
    "    word_speaker = word1 + '_' + word2\n",
    "    topic = final_df.iloc[i]['Topic']\n",
    "    total = word_speaker + ' ' + topic\n",
    "    final_df.at[i, 'embedding word'] = total\n",
    "final_df.drop(columns = 'Unnamed: 0', inplace = True)\n",
    "final_df.head(3)"
   ]
  },
  {
   "cell_type": "code",
   "execution_count": 705,
   "id": "16c45a2c-781b-491e-9a02-5ceaca0ff800",
   "metadata": {},
   "outputs": [],
   "source": [
    "def get_document_embedding(text, model):\n",
    "    words = text.split()\n",
    "    document_vector = topic_embedding_model.infer_vector(words)\n",
    "    return document_vector"
   ]
  },
  {
   "cell_type": "code",
   "execution_count": 706,
   "id": "40152416-74e4-48f6-b06d-96ffc277166a",
   "metadata": {},
   "outputs": [],
   "source": [
    "#Get the embeddings \n",
    "\n",
    "final_df['embedding'] = final_df['embedding word'].astype(str).apply(lambda x: get_document_embedding(x, model))\n"
   ]
  },
  {
   "cell_type": "code",
   "execution_count": 707,
   "id": "ab24a619-ee4d-4d8e-a05b-b50757bedf71",
   "metadata": {},
   "outputs": [],
   "source": [
    "embeddings_df = pd.DataFrame(final_df['embedding'].tolist())\n",
    "embeddings_df.columns = ['embedding_' + str(i) for i in range(embeddings_df.shape[1])]\n",
    "\n",
    "# Concatenate with the original DataFrame\n",
    "final_df = pd.concat([final_df, embeddings_df], axis=1)"
   ]
  },
  {
   "cell_type": "code",
   "execution_count": 708,
   "id": "4bea4deb-0a0b-4d27-9ad1-7324e572b490",
   "metadata": {},
   "outputs": [],
   "source": [
    "#find mean of embeddings for each speaker-topic \n",
    "\n",
    "embedding_cols = [col for col in final_df if col.startswith('embedding_')]\n",
    "other_col = ['Debate']\n",
    "\n",
    "grouped_df = final_df.groupby(['Year', 'speaker','Topic']).agg({**{text_col: 'first' for text_col in other_col}, **{embed_col: 'mean' for embed_col in embedding_cols}}).reset_index()"
   ]
  },
  {
   "cell_type": "code",
   "execution_count": 709,
   "id": "29a413ec-4c07-43ea-a826-1030754b47cc",
   "metadata": {},
   "outputs": [],
   "source": [
    "grouped_df = grouped_df[grouped_df.notna()]"
   ]
  },
  {
   "cell_type": "markdown",
   "id": "e1efe977-3e9f-4cae-9994-da157430953d",
   "metadata": {},
   "source": [
    "## Cosine Similarities "
   ]
  },
  {
   "cell_type": "code",
   "execution_count": 710,
   "id": "5b9b0426-7906-4c01-8bd8-ad060317dd98",
   "metadata": {},
   "outputs": [],
   "source": [
    "#create pairwise similarities \n",
    "\n",
    "def sim(debate, year, topic):\n",
    "    embedding_columns = [f'embedding_{i}' for i in range(20)]\n",
    "    grouped_df_2 = grouped_df[(grouped_df.Debate == debate)&(grouped_df.Year == year)]\n",
    "    grouped_df_rep = grouped_df.groupby(['Year', 'Topic'])[embedding_columns].mean().reset_index()\n",
    "    \n",
    "    unique_topics = grouped_df_2['Topic'].unique()\n",
    "    \n",
    "    similarity_data = {}\n",
    "    \n",
    "    \n",
    "    unique_speakers = grouped_df_2[grouped_df_2['Topic'] == topic]['speaker'].unique()\n",
    "    similarity_df = pd.DataFrame(index=unique_speakers, columns=unique_speakers)\n",
    "    \n",
    "    for speaker in unique_speakers:\n",
    "        for speaker1 in unique_speakers:\n",
    "\n",
    "            emb1 = grouped_df_2[(grouped_df_2['speaker'] == speaker) & (grouped_df_2['Topic'] == topic)][embedding_columns].values\n",
    "            emb2 = grouped_df_2[(grouped_df_2['speaker'] == speaker1) & (grouped_df_2['Topic'] == topic)][embedding_columns].values\n",
    "        \n",
    "            if len(emb1) > 0 and len(emb2) > 0:\n",
    "                sim = cosine_similarity(emb1, emb2)[0][0]\n",
    "                similarity_df.loc[speaker, speaker1] = sim\n",
    "\n",
    "    mean_df  = similarity_df.where(~np.eye(similarity_df.shape[0], dtype=bool))\n",
    "    upper_tri = similarity_df.where(np.triu(np.ones(similarity_df.shape), k=1).astype(bool))\n",
    "    mean_df['mean_score'] = mean_df.mean(axis = 1)\n",
    "    mean_df['std'] = upper_tri.stack().std()\n",
    "    mean_df.sort_values(by = 'mean_score', inplace = True)\n",
    "    return(mean_df)"
   ]
  },
  {
   "cell_type": "code",
   "execution_count": 711,
   "id": "e2ef47b7-04b9-4d5f-93a7-654879186017",
   "metadata": {},
   "outputs": [],
   "source": [
    "#Find the average similarities within the party for that year \n",
    "\n",
    "average_scores = pd.DataFrame()\n",
    "party = 'Republican' #republican or democrat\n",
    "year = 2016 #2000,20008,2016,2020\n",
    "\n",
    "topics_lister = pd.DataFrame(grouped_df[(grouped_df.Debate == party)&(grouped_df.Year == year)].Topic.value_counts().sort_values(ascending = False)).reset_index()\n",
    "topics_lister.rename(columns = {'index':'topic'}, inplace = True)\n",
    "lists = topics_lister.topic.tolist()\n",
    "speakers = ['George_W._Bush', 'Joe_Biden', 'Barack_Obama', 'Donald_Trump']\n",
    "pattern = '|'.join(speakers) \n",
    "for i in lists:\n",
    "    df = sim(party, year, i)\n",
    "    df.reset_index(inplace = True)\n",
    "    df.rename(columns = {'index':'speaker'}, inplace = True)\n",
    "    df.rename(columns={'mean_score': f'mean_score_{i}'}, inplace=True) \n",
    "    contains_speakers = df.speaker.str.contains(pattern).any()\n",
    "    \n",
    "    if (contains_speakers) &\\\n",
    "    (len(df) >= 0.8*len(grouped_df[(grouped_df.Debate == party)&(grouped_df.Year == year)].speaker.unique())):\n",
    "        if average_scores.empty:\n",
    "            average_scores = df[['speaker', f'mean_score_{i}']].copy()\n",
    "        else:\n",
    "            average_scores = average_scores.merge(df[['speaker', f'mean_score_{i}']], on='speaker', how='outer')    "
   ]
  },
  {
   "cell_type": "code",
   "execution_count": 712,
   "id": "3f25c963-51d1-40e9-a5c4-a0b241d5ca52",
   "metadata": {},
   "outputs": [],
   "source": [
    "average_scores['final_mean'] = average_scores.mean(axis = 1)\n",
    "average_scores = average_scores.sort_values(by = 'final_mean')\n",
    "average_scores['speaker'] = average_scores.speaker.str.replace('_',' ')\n",
    "\n",
    "#Uncomment. replace president name for the year we are plotting for \n",
    "# average_scores['speaker'] = average_scores.speaker.str.replace('Joe Biden','Joe Biden \\n(POTUS)')\n",
    "\n",
    "#Uncomment for 2020\n",
    "# average_scores['speaker'] = average_scores.speaker.str.replace('Elizabeth Warren','Elizabeth \\nWarren')\n",
    "# average_scores['speaker'] = average_scores.speaker.str.replace('Michael Bloomberg','Michael \\nBloomberg')\n",
    "# average_scores['speaker'] = average_scores.speaker.str.replace('Pete Buttigieg','Pete \\nButtigieg')\n",
    "# average_scores['speaker'] = average_scores.speaker.str.replace('Amy Klobuchar','Amy \\nKlobuchar')"
   ]
  },
  {
   "cell_type": "code",
   "execution_count": 713,
   "id": "0ab5a8ea-0908-45c6-a8ae-b8a2bba26e09",
   "metadata": {},
   "outputs": [
    {
     "data": {
      "text/plain": [
       "<Figure size 900x300 with 0 Axes>"
      ]
     },
     "execution_count": 713,
     "metadata": {},
     "output_type": "execute_result"
    },
    {
     "data": {
      "text/plain": [
       "<Axes: xlabel='speaker', ylabel='final_mean'>"
      ]
     },
     "execution_count": 713,
     "metadata": {},
     "output_type": "execute_result"
    },
    {
     "data": {
      "text/plain": [
       "Text(0.5, 1.0, 'Similarity amongst Democratic Presidential Primary Candidates (2020)')"
      ]
     },
     "execution_count": 713,
     "metadata": {},
     "output_type": "execute_result"
    },
    {
     "data": {
      "text/plain": [
       "Text(0.5, 0, 'Candidate')"
      ]
     },
     "execution_count": 713,
     "metadata": {},
     "output_type": "execute_result"
    },
    {
     "data": {
      "text/plain": [
       "Text(0, 0.5, 'Cosine Similarity Score')"
      ]
     },
     "execution_count": 713,
     "metadata": {},
     "output_type": "execute_result"
    },
    {
     "data": {
      "image/png": "[encoded data removed]",
      "text/plain": [
       "<Figure size 900x300 with 1 Axes>"
      ]
     },
     "metadata": {},
     "output_type": "display_data"
    }
   ],
   "source": [
    "sns.set_style(\"whitegrid\")\n",
    "\n",
    "# Create the line plot\n",
    "plt.figure(figsize=(9, 3))\n",
    "sns.lineplot(data=average_scores, x='speaker', y='final_mean', marker='o')\n",
    "\n",
    "# Enhance the plot with titles and labels\n",
    "plt.title('Similarity amongst Democratic Presidential Primary Candidates (2020)')\n",
    "plt.xlabel('Candidate')\n",
    "plt.ylabel('Cosine Similarity Score')\n",
    "# plt.xticks(rotation=45)  # Rotate the x-axis labels for better readability\n",
    "plt.tight_layout()  # Adjust the layout\n",
    "\n",
    "# Show the plot\n",
    "plt.show()"
   ]
  },
  {
   "cell_type": "markdown",
   "id": "03f7be1f",
   "metadata": {},
   "source": [
    "## Clustering"
   ]
  },
  {
   "cell_type": "code",
   "execution_count": 714,
   "id": "539e561e",
   "metadata": {},
   "outputs": [],
   "source": [
    "#for clustering we combine all documents per unique speaker \n",
    "def combine_texts(group):\n",
    "    combined = '. '.join(group['sentence']) + '. '\n",
    "    return combined\n",
    "vec.reset_index(inplace = True, drop = True)\n",
    "grouped_texts = vec.groupby(['Year', 'Debate', 'speaker']).apply(combine_texts).reset_index(name='combined_text')\n"
   ]
  },
  {
   "cell_type": "code",
   "execution_count": 715,
   "id": "128ad82a-5cab-4dfc-87b5-1bf4167ddaea",
   "metadata": {},
   "outputs": [],
   "source": [
    "def pre_processor(x):\n",
    "    regex = r'\\[.*?\\]'\n",
    "    regex_punctuation = r'[^\\w\\s]'\n",
    "\n",
    "    x = re.sub(regex, '', x)\n",
    "    x = re.sub(' +', ' ', x)\n",
    "    x = re.sub(regex_punctuation, '', x)\n",
    "    x = x.lower()\n",
    "    words = word_tokenize(x)\n",
    "    if len(words)>=5:\n",
    "        filtered_words = [word for word in words if word.lower() and word.isalnum()]\n",
    "    else:\n",
    "        filtered_words = 'delete'\n",
    "    return ' '.join(filtered_words)"
   ]
  },
  {
   "cell_type": "code",
   "execution_count": 716,
   "id": "b8010e77",
   "metadata": {},
   "outputs": [],
   "source": [
    "#Pre-Processing and tokenization\n",
    "\n",
    "grouped_texts['processed_text'] =grouped_texts.combined_text.apply(pre_processor)\n",
    "grouped_texts = grouped_texts[grouped_texts.processed_text != 'd e l e t e']\n",
    "\n",
    "grouped_texts = grouped_texts.reset_index(drop = True)\n",
    "\n",
    "grouped_texts['speaker'] = grouped_texts.speaker.str.replace(' ','_', regex =True)+'_'+grouped_texts.Year.astype(str)\n",
    "\n",
    "grouped_texts['doc2vec_text'] = grouped_texts.processed_text + ' ' + grouped_texts.speaker \n",
    "\n",
    "grouped_texts['doc2vec_token'] = grouped_texts.doc2vec_text.apply(tokenize_text)\n",
    "\n",
    "grouped_texts.reset_index(inplace = True, drop = True)\n"
   ]
  },
  {
   "cell_type": "code",
   "execution_count": 717,
   "id": "e5c75cc0",
   "metadata": {},
   "outputs": [],
   "source": [
    "#Doc2vec embeddings \n",
    "final_df_list_cluster = list(grouped_texts.doc2vec_token)\n",
    "documents_cluster = [TaggedDocument(doc, [i]) for i, doc in enumerate(final_df_list_cluster)]\n",
    "overall_model= Doc2Vec(documents_cluster, min_count=1, vector_size=20, workers=8, dm=0)"
   ]
  },
  {
   "cell_type": "code",
   "execution_count": 718,
   "id": "f62b5854",
   "metadata": {},
   "outputs": [],
   "source": [
    "\n",
    "#append the document vectors each vector element as a feature\n",
    "doc_vectors = []\n",
    "check_df = vec.copy()\n",
    "for i in range(len(documents_cluster)):\n",
    "    vector = overall_model.dv[i] \n",
    "    doc_vectors.append(vector)\n",
    "\n",
    "# Create a DataFrame from the document vectors\n",
    "vector_df = pd.DataFrame(doc_vectors, columns=[f'vector_{i}' for i in range(20)])\n",
    "\n",
    "for i in range(20):\n",
    "    grouped_texts[f'vector_{i}'] = vector_df[f'vector_{i}']\n"
   ]
  },
  {
   "cell_type": "code",
   "execution_count": 719,
   "id": "0c4d4309-a5ba-4ec7-91e2-a02aab876420",
   "metadata": {},
   "outputs": [],
   "source": [
    "#Extract our feature Columns \n",
    "features = grouped_texts[[f'vector_{i}' for i in range(20)]]"
   ]
  },
  {
   "cell_type": "markdown",
   "id": "ec8d75b6-b0ff-4759-99d7-908dabb6ffbc",
   "metadata": {},
   "source": [
    "### Hierarchical"
   ]
  },
  {
   "cell_type": "code",
   "execution_count": 722,
   "id": "5044369e-cede-4b26-8ce2-1b7df0b5b1db",
   "metadata": {},
   "outputs": [
    {
     "data": {
      "text/plain": [
       "<Figure size 640x480 with 0 Axes>"
      ]
     },
     "execution_count": 722,
     "metadata": {},
     "output_type": "execute_result"
    },
    {
     "data": {
      "text/plain": [
       "Text(0.5, 1.0, 'Dendogram Analysis of Presidential Canadidate Clusters')"
      ]
     },
     "execution_count": 722,
     "metadata": {},
     "output_type": "execute_result"
    },
    {
     "data": {
      "text/plain": [
       "<matplotlib.lines.Line2D at 0x1f9972241d0>"
      ]
     },
     "execution_count": 722,
     "metadata": {},
     "output_type": "execute_result"
    },
    {
     "data": {
      "text/plain": [
       "Text(0.5, 0, 'Candidates (Indexed by unique number)')"
      ]
     },
     "execution_count": 722,
     "metadata": {},
     "output_type": "execute_result"
    },
    {
     "data": {
      "text/plain": [
       "Text(0, 0.5, 'Distance between clusters')"
      ]
     },
     "execution_count": 722,
     "metadata": {},
     "output_type": "execute_result"
    },
    {
     "data": {
      "image/png": "[encoded data removed]",
      "text/plain": [
       "<Figure size 640x480 with 1 Axes>"
      ]
     },
     "metadata": {},
     "output_type": "display_data"
    }
   ],
   "source": [
    "\n",
    "  \n",
    "Z = hierarchy.linkage(features, method='ward') \n",
    "plt.figure() \n",
    "plt.title(\"Dendogram Analysis of Presidential Canadidate Clusters\") \n",
    "dendrogram = hierarchy.dendrogram(Z) \n",
    "  \n",
    "# Cutting the dendrogram at max_d \n",
    "plt.axhline(y=max_d, c ='k') \n",
    "plt.xlabel('Candidates (Indexed by unique number)')\n",
    "plt.ylabel('Distance between clusters')\n",
    "plt.grid(False)\n",
    "\n",
    "plt.show()"
   ]
  },
  {
   "cell_type": "code",
   "execution_count": 357,
   "id": "a2645016-6bc8-4b32-894c-72f219e38127",
   "metadata": {},
   "outputs": [],
   "source": [
    "n_clusters = 17   # Adjust this based on your specific needs\n",
    "\n",
    "# Initialize the Agglomerative Clustering model\n",
    "clustering = AgglomerativeClustering(n_clusters=n_clusters, affinity='euclidean', linkage='ward')\n",
    "\n",
    "# Fit the model and predict clusters\n",
    "cluster_labels = clustering.fit_predict(features)\n",
    "\n",
    "# Assign the cluster labels to your original DataFrame\n",
    "grouped_texts['cluster'] = cluster_labels"
   ]
  },
  {
   "cell_type": "code",
   "execution_count": 693,
   "id": "163f3bba-33fc-40ec-9258-9802e364d13e",
   "metadata": {},
   "outputs": [],
   "source": [
    "#Exploring Clusters \n",
    "#Large output. Uncomment if needed \n",
    "\n",
    "# for i in range(0,17):\n",
    "#     grouped_texts[['speaker','Debate', 'Year','cluster']][grouped_texts.cluster == i]"
   ]
  },
  {
   "cell_type": "code",
   "execution_count": 196,
   "id": "50085fe3-60c4-4594-9700-50ba657c81dc",
   "metadata": {},
   "outputs": [
    {
     "name": "stdout",
     "output_type": "stream",
     "text": [
      "Cophenetic Correlation Coefficient: 0.7200330026833497\n"
     ]
    }
   ],
   "source": [
    "##EVALUATION\n",
    "\n",
    "Z = linkage(features, method='ward')\n",
    "c, coph_dists = cophenet(Z, pdist(features))\n",
    "print(\"Cophenetic Correlation Coefficient:\", c)"
   ]
  },
  {
   "cell_type": "markdown",
   "id": "bb246646-291d-4205-b91d-82c5884c4fb6",
   "metadata": {},
   "source": [
    "## Experimentation with other clustering Methods. Suboptimal Results"
   ]
  },
  {
   "cell_type": "markdown",
   "id": "4df864df-bc54-4ba0-a556-1a96d1ea07b2",
   "metadata": {},
   "source": [
    "**DBSCAN**"
   ]
  },
  {
   "cell_type": "code",
   "execution_count": 537,
   "id": "f23f8f4d-3021-4f75-b1e0-f8eb9db54252",
   "metadata": {},
   "outputs": [],
   "source": [
    "\n",
    "\n",
    "# Parameters for DBSCAN\n",
    "eps = 5  # The maximum distance between two samples for one to be considered as in the neighborhood of the other\n",
    "min_samples = 5  # The number of samples in a neighborhood for a point to be considered as a core point\n",
    "\n",
    "# Initialize DBSCAN\n",
    "dbscan = DBSCAN(eps=eps, min_samples=min_samples)\n",
    "\n",
    "# Fit and predict clusters\n",
    "cluster_labels = dbscan.fit_predict(features)\n",
    "\n",
    "# Assign the cluster labels to your DataFrame\n",
    "grouped_texts['cluster'] = cluster_labels\n",
    "\n",
    "#regardless of eps and min_samples, clusters do not make sense "
   ]
  },
  {
   "cell_type": "code",
   "execution_count": 538,
   "id": "2ee8b679-c852-4b1b-8a8b-2a6f5df3b704",
   "metadata": {},
   "outputs": [
    {
     "data": {
      "text/plain": [
       "array([-1, -1,  0, -1, -1, -1, -1, -1, -1,  0,  0,  0,  0,  0,  0,  0,  0,\n",
       "       -1,  0,  0, -1,  0, -1,  0, -1,  0,  0, -1, -1, -1,  0, -1,  0,  0,\n",
       "       -1, -1,  0, -1, -1, -1, -1,  0,  0,  0, -1,  0, -1, -1,  0, -1, -1,\n",
       "        0, -1, -1,  0,  0, -1,  0,  0,  0,  0,  0,  0,  0], dtype=int64)"
      ]
     },
     "execution_count": 538,
     "metadata": {},
     "output_type": "execute_result"
    }
   ],
   "source": [
    "cluster_labels"
   ]
  },
  {
   "cell_type": "markdown",
   "id": "427cda92-c161-4d4e-a786-b676a8b68f16",
   "metadata": {},
   "source": [
    "**Kmeans**"
   ]
  },
  {
   "cell_type": "markdown",
   "id": "923de330-04e2-4610-94dd-2200d1908ad9",
   "metadata": {},
   "source": [
    "Both Elbow Plot and knee plot give very uninterpretable results in order to make selection on cluster choice"
   ]
  },
  {
   "cell_type": "code",
   "execution_count": 568,
   "id": "6b10b648-d75c-4f07-9dfc-d6c5bb5d9cbf",
   "metadata": {},
   "outputs": [],
   "source": [
    "\n",
    "\n",
    "g =globals()\n",
    "elbow_plot_list = []\n",
    "sil_score_list = []\n",
    "def kmeans_maker(i, df = features):\n",
    "    kmeans = KMeans(n_clusters=i, init='random', random_state=29, n_init = 'auto')\n",
    "    km_clusters = kmeans.fit_predict(df)\n",
    "    g['elbow_plot_list'].append([i,kmeans.inertia_])\n",
    "    \n",
    "    label=kmeans.predict(df)\n",
    "    g['sil_score_list'].append([i,silhouette_score(df, label)])"
   ]
  },
  {
   "cell_type": "code",
   "execution_count": 570,
   "id": "163c9dcf-4d5d-412f-bcb2-4bb79cd259a3",
   "metadata": {},
   "outputs": [],
   "source": [
    "\n",
    "for i in range(2,15):\n",
    "    kmeans_maker(i)\n",
    "elbow_plot_df_1 = pd.DataFrame(elbow_plot_list)\n",
    "elbow_plot_df_1.rename(columns = {0:'Number of Clusters',1:'SSE'}, inplace = True)\n",
    "sil_score_df_1 = pd.DataFrame(sil_score_list)\n",
    "sil_score_df_1.rename(columns = {0:'Number of Clusters',1:'Silhoutte Score'}, inplace = True)"
   ]
  },
  {
   "cell_type": "code",
   "execution_count": 571,
   "id": "f3cd543a-456b-4f1e-b2c8-10eee8dc66fc",
   "metadata": {},
   "outputs": [
    {
     "data": {
      "text/plain": [
       "Text(0.5, 0, 'Number of Clusters')"
      ]
     },
     "execution_count": 571,
     "metadata": {},
     "output_type": "execute_result"
    },
    {
     "data": {
      "text/plain": [
       "Text(0, 0.5, 'SSE')"
      ]
     },
     "execution_count": 571,
     "metadata": {},
     "output_type": "execute_result"
    },
    {
     "data": {
      "text/plain": [
       "Text(0.5, 1.0, 'Elbow Plot of SSE and Number of Clusters')"
      ]
     },
     "execution_count": 571,
     "metadata": {},
     "output_type": "execute_result"
    },
    {
     "data": {
      "image/png": "[encoded data removed]",
      "text/plain": [
       "<Figure size 640x480 with 1 Axes>"
      ]
     },
     "metadata": {},
     "output_type": "display_data"
    }
   ],
   "source": [
    "a = sns.lineplot(data=elbow_plot_df_1, x='Number of Clusters', y='SSE', color = '#674ea7')\n",
    "sns.set_style(\"whitegrid\", {'grid.color': '0.8'})\n",
    "sns.despine()\n",
    "plt.xlabel('Number of Clusters' , fontweight = 'bold')\n",
    "plt.ylabel('SSE' , fontweight = 'bold')\n",
    "plt.title('Elbow Plot of SSE and Number of Clusters', fontweight = 'bold')\n",
    "plt.show()"
   ]
  },
  {
   "cell_type": "code",
   "execution_count": 572,
   "id": "9b2b250f-57c4-43cf-9c01-e77b944a9a72",
   "metadata": {},
   "outputs": [
    {
     "data": {
      "text/plain": [
       "Text(0.5, 0, 'Number of Clusters')"
      ]
     },
     "execution_count": 572,
     "metadata": {},
     "output_type": "execute_result"
    },
    {
     "data": {
      "text/plain": [
       "Text(0, 0.5, 'Silhouette Coefficient')"
      ]
     },
     "execution_count": 572,
     "metadata": {},
     "output_type": "execute_result"
    },
    {
     "data": {
      "text/plain": [
       "Text(0.5, 1.0, 'Knee Plot of Silhoutte Coefficient and Number of Clusters')"
      ]
     },
     "execution_count": 572,
     "metadata": {},
     "output_type": "execute_result"
    },
    {
     "data": {
      "image/png": "[encoded data removed]",
      "text/plain": [
       "<Figure size 640x480 with 1 Axes>"
      ]
     },
     "metadata": {},
     "output_type": "display_data"
    }
   ],
   "source": [
    "b = sns.lineplot(data=sil_score_df_1, x='Number of Clusters', y='Silhoutte Score', color  = '#f6b26b')\n",
    "sns.set_style(\"whitegrid\", {'grid.color': '0.8'})\n",
    "sns.despine()\n",
    "plt.xlabel('Number of Clusters' , fontweight = 'bold')\n",
    "plt.ylabel('Silhouette Coefficient', fontweight = 'bold')\n",
    "plt.title('Knee Plot of Silhoutte Coefficient and Number of Clusters', fontweight = 'bold')\n",
    "plt.show()"
   ]
  }
 ],
 "metadata": {
  "kernelspec": {
   "display_name": "Python 3 (ipykernel)",
   "language": "python",
   "name": "python3"
  },
  "language_info": {
   "codemirror_mode": {
    "name": "ipython",
    "version": 3
   },
   "file_extension": ".py",
   "mimetype": "text/x-python",
   "name": "python",
   "nbconvert_exporter": "python",
   "pygments_lexer": "ipython3",
   "version": "3.11.5"
  }
 },
 "nbformat": 4,
 "nbformat_minor": 5
}
